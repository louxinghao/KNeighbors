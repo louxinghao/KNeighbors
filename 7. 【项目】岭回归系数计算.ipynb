{
 "cells": [
  {
   "cell_type": "markdown",
   "metadata": {},
   "source": [
    "# 岭回归系数 $w$ 计算"
   ]
  },
  {
   "cell_type": "markdown",
   "metadata": {},
   "source": [
    "## 挑战介绍"
   ]
  },
  {
   "cell_type": "markdown",
   "metadata": {},
   "source": [
    "前面的实验中，我们学习了岭回归和 LASSO 回归方法，并使用 scikit-learn 对两种方法进行了实战训练。本次挑战中，我们将尝试直接使用 Python 完成岭回归系数 $w$ 计算，并与 scikit-learn 计算结果进行比较。"
   ]
  },
  {
   "cell_type": "markdown",
   "metadata": {},
   "source": [
    "## 挑战知识点"
   ]
  },
  {
   "cell_type": "markdown",
   "metadata": {},
   "source": [
    "- Python 计算岭回归系数\n",
    "- scikit-learn 计算岭回归系数"
   ]
  },
  {
   "cell_type": "markdown",
   "metadata": {},
   "source": [
    "---"
   ]
  },
  {
   "cell_type": "markdown",
   "metadata": {},
   "source": [
    "## 挑战内容"
   ]
  },
  {
   "cell_type": "markdown",
   "metadata": {},
   "source": [
    "### 使用 Python 计算岭回归系数 $w$ "
   ]
  },
  {
   "cell_type": "markdown",
   "metadata": {},
   "source": [
    "前面的课程中，我们已经知道了岭回归的向量表达式：\n",
    "\n",
    "$$F_{Ridge}={\\left \\| y-Xw \\right \\|_{2}}^{2} + \\lambda{\\left \\| w \\right \\|_{2}}^{2} \\tag1$$"
   ]
  },
  {
   "cell_type": "markdown",
   "metadata": {},
   "source": [
    "以及该向量表达式的解析解：\n",
    "\n",
    "$$\\hat w_{Ridge} = (X^TX + \\lambda I)^{-1} X^TY \\tag2$$"
   ]
  },
  {
   "cell_type": "markdown",
   "metadata": {},
   "source": [
    "---"
   ]
  },
  {
   "cell_type": "markdown",
   "metadata": {},
   "source": [
    "**<font color='red'>挑战</font>：参考公式 $(2)$，完成 Python 实现岭回归系数 $w$ 的计算函数。**"
   ]
  },
  {
   "cell_type": "markdown",
   "metadata": {},
   "source": [
    "**<font color='green'>提示</font>**：使用 `np.eye()` 生成单位矩阵，并注意公式是矩阵乘法。"
   ]
  },
  {
   "cell_type": "code",
   "execution_count": null,
   "metadata": {},
   "outputs": [],
   "source": [
    "\"\"\"岭回归系数 w 的计算函数\n",
    "\"\"\"\n",
    "\n",
    "import numpy as np\n",
    "\n",
    "def ridge_regression(X, Y, alpha):\n",
    "    \"\"\"\n",
    "    参数:\n",
    "    X -- 自变量数据矩阵\n",
    "    Y -- 因变量数据矩阵\n",
    "    alpha -- lamda 参数\n",
    "\n",
    "    返回:\n",
    "    W -- 岭回归系数\n",
    "    \"\"\"\n",
    "    \n",
    "    ### 代码开始 ### (≈ 3 行代码)\n",
    "\n",
    "    ### 代码结束 ###\n",
    "    \n",
    "    return W"
   ]
  },
  {
   "cell_type": "markdown",
   "metadata": {},
   "source": [
    "下面，我们生成测试数据："
   ]
  },
  {
   "cell_type": "code",
   "execution_count": null,
   "metadata": {},
   "outputs": [],
   "source": [
    "np.random.seed(10) # 设置随机数种子\n",
    "\n",
    "X = np.matrix(np.random.randint(5, size=(10, 10)))\n",
    "Y = np.matrix(np.random.randint(10, size=(10,1 )))\n",
    "alpha = 0.5"
   ]
  },
  {
   "cell_type": "markdown",
   "metadata": {},
   "source": [
    "**运行测试：**"
   ]
  },
  {
   "cell_type": "markdown",
   "metadata": {},
   "source": [
    "计算岭回归系数$w$的值："
   ]
  },
  {
   "cell_type": "code",
   "execution_count": null,
   "metadata": {},
   "outputs": [],
   "source": [
    "ridge_regression(X, Y, alpha).T"
   ]
  },
  {
   "cell_type": "markdown",
   "metadata": {},
   "source": [
    "**期望输出：**"
   ]
  },
  {
   "cell_type": "markdown",
   "metadata": {},
   "source": [
    "```\n",
    "matrix([[ 1.42278923,  2.20583559, -0.6391644 ,  0.64022529, -0.44014758,\n",
    "          1.66307858, -0.83879894, -0.25611354, -0.06951638, -2.56882017]])\n",
    "```"
   ]
  },
  {
   "cell_type": "markdown",
   "metadata": {},
   "source": [
    "### 使用 scikit-learn 计算岭回归系数 $w$ "
   ]
  },
  {
   "cell_type": "markdown",
   "metadata": {},
   "source": [
    "上面的挑战中，你已经学会了使用 Python 计算岭回归系数 $w$。下面，我们看一看结果是否与 scikit-learn 的计算结果一致。"
   ]
  },
  {
   "cell_type": "markdown",
   "metadata": {},
   "source": [
    "---"
   ]
  },
  {
   "cell_type": "markdown",
   "metadata": {},
   "source": [
    "**<font color='red'>挑战</font>：使用 scikit-learn 计算岭回归系数 $w$。**"
   ]
  },
  {
   "cell_type": "markdown",
   "metadata": {},
   "source": [
    "**<font color='green'>提示</font>**：请向岭回归模型中增加 `fit_intercept=False` 参数取消截距。"
   ]
  },
  {
   "cell_type": "code",
   "execution_count": null,
   "metadata": {},
   "outputs": [],
   "source": [
    "\"\"\"使用 scikit-learn 计算岭回归系数 w\n",
    "\"\"\"\n",
    "\n",
    "from sklearn.linear_model import Ridge\n",
    "\n",
    "def ridge_model(X, Y, alpha):\n",
    "    \"\"\"\n",
    "    参数:\n",
    "    X -- 自变量数据矩阵\n",
    "    Y -- 因变量数据矩阵\n",
    "    alpha -- lamda 参数\n",
    "\n",
    "    返回:\n",
    "    W -- 岭回归系数\n",
    "    \"\"\"\n",
    "    \n",
    "    ### 代码开始 ### (≈ 3 行代码)\n",
    "\n",
    "    ### 代码结束 ###\n",
    "    \n",
    "    return W"
   ]
  },
  {
   "cell_type": "markdown",
   "metadata": {},
   "source": [
    "**运行测试：**"
   ]
  },
  {
   "cell_type": "markdown",
   "metadata": {},
   "source": [
    "计算岭回归系数$w$的值："
   ]
  },
  {
   "cell_type": "code",
   "execution_count": null,
   "metadata": {
    "scrolled": true
   },
   "outputs": [],
   "source": [
    "ridge_model(X, Y, alpha)"
   ]
  },
  {
   "cell_type": "markdown",
   "metadata": {},
   "source": [
    "**期望输出：**"
   ]
  },
  {
   "cell_type": "markdown",
   "metadata": {},
   "source": [
    "```\n",
    "matrix([[ 1.42278923,  2.20583559, -0.6391644 ,  0.64022529, -0.44014758,\n",
    "          1.66307858, -0.83879894, -0.25611354, -0.06951638, -2.56882017]])\n",
    "```"
   ]
  },
  {
   "cell_type": "markdown",
   "metadata": {},
   "source": [
    "我们可以看到，和预想的一致，两种方法计算出的 $w$ 系数值是一模一样的。"
   ]
  },
  {
   "cell_type": "markdown",
   "metadata": {},
   "source": [
    "---"
   ]
  },
  {
   "cell_type": "code",
   "execution_count": null,
   "metadata": {},
   "outputs": [],
   "source": []
  }
 ],
 "metadata": {
  "kernelspec": {
   "display_name": "Python 3",
   "language": "python",
   "name": "python3"
  },
  "language_info": {
   "codemirror_mode": {
    "name": "ipython",
    "version": 3
   },
   "file_extension": ".py",
   "mimetype": "text/x-python",
   "name": "python",
   "nbconvert_exporter": "python",
   "pygments_lexer": "ipython3",
   "version": "3.6.5"
  }
 },
 "nbformat": 4,
 "nbformat_minor": 2
}
