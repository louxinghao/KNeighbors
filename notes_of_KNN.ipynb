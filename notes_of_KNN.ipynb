# 保存为ipynb格式，使用 Jupyter 打开
{
 "cells": [
  {
   "cell_type": "markdown",
   "metadata": {},
   "source": [
    "# scikit-learn 监督学习之 K 近邻算法"
   ]
  },
  {
   "cell_type": "markdown",
   "metadata": {},
   "source": [
    "## 所有第三方库使用目录"
   ]
  },
  {
   "cell_type": "code",
   "execution_count": 73,
   "metadata": {},
   "outputs": [],
   "source": [
    "import numpy as np    # 需要用到 NumPy 的 ndarray\n",
    "import pandas as pd    # 实际应用时导入数据非常方便，可不用\n",
    "from sklearn.datasets import load_iris  # 鸢尾花数据集，实际应用时不需要导入此模块，用实际数据即可\n",
    "from sklearn.datasets import load_breast_cancer   # 乳腺癌数据集\n",
    "from sklearn.model_selection import train_test_split   # 第 2 步分割数据使用\n",
    "from sklearn.neighbors import KNeighborsClassifier    # K 近邻的分类模型\n",
    "from sklearn.neighbors import KNeighborsRegressor    # K 近邻的回归模型\n",
    "import matplotlib.pyplot as plt    # 用于制作模型图，可不用\n",
    "import seaborn as sns   # 美化 matplotlib 的模型图，可不用"
   ]
  },
  {
   "cell_type": "markdown",
   "metadata": {},
   "source": [
    "## 1. 获取一个数据集"
   ]
  },
  {
   "cell_type": "markdown",
   "metadata": {},
   "source": [
    "### 四种方法获取数据集"
   ]
  },
  {
   "cell_type": "markdown",
   "metadata": {},
   "source": [
    "#### ① 从第三方库中导入（一般仅作学习使用）"
   ]
  },
  {
   "cell_type": "code",
   "execution_count": 2,
   "metadata": {},
   "outputs": [],
   "source": [
    "# 以 scikit-learn 中鸢尾花数据为例\n",
    "# from sklearn.datasets import load_iris  # 导入数据集\n",
    "# import pandas as pd\n",
    "\n",
    "iris = load_iris()   # 获取数据集"
   ]
  },
  {
   "cell_type": "code",
   "execution_count": 3,
   "metadata": {},
   "outputs": [
    {
     "name": "stdout",
     "output_type": "stream",
     "text": [
      "iris 数据集的键: dict_keys(['data', 'target', 'target_names', 'DESCR', 'feature_names'])\n",
      "iris 数据集数据量：(150,)\n"
     ]
    }
   ],
   "source": [
    "# 查看数据集的键\n",
    "print('iris 数据集的键: {}'.format(iris.keys()))\n",
    "\n",
    "# 查看数据集中数据数量\n",
    "print('iris 数据集数据量：{}'.format(iris['target'].shape))"
   ]
  },
  {
   "cell_type": "code",
   "execution_count": 4,
   "metadata": {},
   "outputs": [
    {
     "data": {
      "text/html": [
       "<div>\n",
       "<style scoped>\n",
       "    .dataframe tbody tr th:only-of-type {\n",
       "        vertical-align: middle;\n",
       "    }\n",
       "\n",
       "    .dataframe tbody tr th {\n",
       "        vertical-align: top;\n",
       "    }\n",
       "\n",
       "    .dataframe thead th {\n",
       "        text-align: right;\n",
       "    }\n",
       "</style>\n",
       "<table border=\"1\" class=\"dataframe\">\n",
       "  <thead>\n",
       "    <tr style=\"text-align: right;\">\n",
       "      <th></th>\n",
       "      <th>花萼长度</th>\n",
       "      <th>花萼宽度</th>\n",
       "      <th>花瓣长度</th>\n",
       "      <th>花瓣宽度</th>\n",
       "    </tr>\n",
       "  </thead>\n",
       "  <tbody>\n",
       "    <tr>\n",
       "      <th>0</th>\n",
       "      <td>5.1</td>\n",
       "      <td>3.5</td>\n",
       "      <td>1.4</td>\n",
       "      <td>0.2</td>\n",
       "    </tr>\n",
       "    <tr>\n",
       "      <th>1</th>\n",
       "      <td>4.9</td>\n",
       "      <td>3.0</td>\n",
       "      <td>1.4</td>\n",
       "      <td>0.2</td>\n",
       "    </tr>\n",
       "    <tr>\n",
       "      <th>2</th>\n",
       "      <td>4.7</td>\n",
       "      <td>3.2</td>\n",
       "      <td>1.3</td>\n",
       "      <td>0.2</td>\n",
       "    </tr>\n",
       "    <tr>\n",
       "      <th>3</th>\n",
       "      <td>4.6</td>\n",
       "      <td>3.1</td>\n",
       "      <td>1.5</td>\n",
       "      <td>0.2</td>\n",
       "    </tr>\n",
       "    <tr>\n",
       "      <th>4</th>\n",
       "      <td>5.0</td>\n",
       "      <td>3.6</td>\n",
       "      <td>1.4</td>\n",
       "      <td>0.2</td>\n",
       "    </tr>\n",
       "  </tbody>\n",
       "</table>\n",
       "</div>"
      ],
      "text/plain": [
       "   花萼长度  花萼宽度  花瓣长度  花瓣宽度\n",
       "0   5.1   3.5   1.4   0.2\n",
       "1   4.9   3.0   1.4   0.2\n",
       "2   4.7   3.2   1.3   0.2\n",
       "3   4.6   3.1   1.5   0.2\n",
       "4   5.0   3.6   1.4   0.2"
      ]
     },
     "execution_count": 4,
     "metadata": {},
     "output_type": "execute_result"
    }
   ],
   "source": [
    "# 使用 pandas.DataFrame 方法查看数据集中的数据情况\n",
    "iris_df = pd.DataFrame(iris.data, columns=['花萼长度', '花萼宽度', '花瓣长度', '花瓣宽度'])\n",
    "\n",
    "# 由 Out[3] 可知数据共150行，使用 pandas.head 方法查看前五行数据\n",
    "iris_df.head()"
   ]
  },
  {
   "cell_type": "markdown",
   "metadata": {},
   "source": [
    "####  ② 从网络直接下载数据"
   ]
  },
  {
   "cell_type": "code",
   "execution_count": 5,
   "metadata": {},
   "outputs": [],
   "source": [
    " # import pandas as pd  # 导入 pandas 库"
   ]
  },
  {
   "cell_type": "code",
   "execution_count": 6,
   "metadata": {},
   "outputs": [
    {
     "name": "stderr",
     "output_type": "stream",
     "text": [
      "SYSTEM_WGETRC = c:/progra~1/wget/etc/wgetrc\n",
      "syswgetrc = C:\\Program Files (x86)\\GnuWin32/etc/wgetrc\n",
      "--2018-07-18 11:26:26--  http://labfile.oss.aliyuncs.com/courses/906/los_census.csv\n",
      "正在解析主机 labfile.oss.aliyuncs.com... 118.178.161.16\n",
      "Connecting to labfile.oss.aliyuncs.com|118.178.161.16|:80... 已连接。\n",
      "已发出 HTTP 请求，正在等待回应... 200 OK\n",
      "长度：12183 (12K) [text/csv]\n",
      "Saving to: `los_census.csv.6'\n",
      "\n",
      "     0K .......... .                                          100%  482M=0s\n",
      "\n",
      "2018-07-18 11:26:26 (482 MB/s) - `los_census.csv.6' saved [12183/12183]\n",
      "\n"
     ]
    }
   ],
   "source": [
    "# 这里以实验楼服务器提供的数据集\n",
    "!wget http://labfile.oss.aliyuncs.com/courses/906/los_census.csv"
   ]
  },
  {
   "cell_type": "code",
   "execution_count": 7,
   "metadata": {},
   "outputs": [
    {
     "name": "stdout",
     "output_type": "stream",
     "text": [
      "该文件数据量：(319, 7)\n"
     ]
    },
    {
     "data": {
      "text/html": [
       "<div>\n",
       "<style scoped>\n",
       "    .dataframe tbody tr th:only-of-type {\n",
       "        vertical-align: middle;\n",
       "    }\n",
       "\n",
       "    .dataframe tbody tr th {\n",
       "        vertical-align: top;\n",
       "    }\n",
       "\n",
       "    .dataframe thead th {\n",
       "        text-align: right;\n",
       "    }\n",
       "</style>\n",
       "<table border=\"1\" class=\"dataframe\">\n",
       "  <thead>\n",
       "    <tr style=\"text-align: right;\">\n",
       "      <th></th>\n",
       "      <th>Zip Code</th>\n",
       "      <th>Total Population</th>\n",
       "      <th>Median Age</th>\n",
       "      <th>Total Males</th>\n",
       "      <th>Total Females</th>\n",
       "      <th>Total Households</th>\n",
       "      <th>Average Household Size</th>\n",
       "    </tr>\n",
       "  </thead>\n",
       "  <tbody>\n",
       "    <tr>\n",
       "      <th>0</th>\n",
       "      <td>91371</td>\n",
       "      <td>1</td>\n",
       "      <td>73.5</td>\n",
       "      <td>0</td>\n",
       "      <td>1</td>\n",
       "      <td>1</td>\n",
       "      <td>1.00</td>\n",
       "    </tr>\n",
       "    <tr>\n",
       "      <th>1</th>\n",
       "      <td>90001</td>\n",
       "      <td>57110</td>\n",
       "      <td>26.6</td>\n",
       "      <td>28468</td>\n",
       "      <td>28642</td>\n",
       "      <td>12971</td>\n",
       "      <td>4.40</td>\n",
       "    </tr>\n",
       "    <tr>\n",
       "      <th>2</th>\n",
       "      <td>90002</td>\n",
       "      <td>51223</td>\n",
       "      <td>25.5</td>\n",
       "      <td>24876</td>\n",
       "      <td>26347</td>\n",
       "      <td>11731</td>\n",
       "      <td>4.36</td>\n",
       "    </tr>\n",
       "    <tr>\n",
       "      <th>3</th>\n",
       "      <td>90003</td>\n",
       "      <td>66266</td>\n",
       "      <td>26.3</td>\n",
       "      <td>32631</td>\n",
       "      <td>33635</td>\n",
       "      <td>15642</td>\n",
       "      <td>4.22</td>\n",
       "    </tr>\n",
       "    <tr>\n",
       "      <th>4</th>\n",
       "      <td>90004</td>\n",
       "      <td>62180</td>\n",
       "      <td>34.8</td>\n",
       "      <td>31302</td>\n",
       "      <td>30878</td>\n",
       "      <td>22547</td>\n",
       "      <td>2.73</td>\n",
       "    </tr>\n",
       "  </tbody>\n",
       "</table>\n",
       "</div>"
      ],
      "text/plain": [
       "   Zip Code  Total Population  Median Age  Total Males  Total Females  \\\n",
       "0     91371                 1        73.5            0              1   \n",
       "1     90001             57110        26.6        28468          28642   \n",
       "2     90002             51223        25.5        24876          26347   \n",
       "3     90003             66266        26.3        32631          33635   \n",
       "4     90004             62180        34.8        31302          30878   \n",
       "\n",
       "   Total Households  Average Household Size  \n",
       "0                 1                    1.00  \n",
       "1             12971                    4.40  \n",
       "2             11731                    4.36  \n",
       "3             15642                    4.22  \n",
       "4             22547                    2.73  "
      ]
     },
     "execution_count": 7,
     "metadata": {},
     "output_type": "execute_result"
    }
   ],
   "source": [
    "# 使用 pandas.read_xxx(file_name) 来读取文件\n",
    "net_data = pd.read_csv('los_census.csv')\n",
    "\n",
    "print('该文件数据量：{}'.format(net_data.shape))\n",
    "\n",
    "# 由上面语句可以看出该文件共 319 行 7 列数据，使用 pandas.head() 函数查看前五行\n",
    "net_data.head()"
   ]
  },
  {
   "cell_type": "markdown",
   "metadata": {},
   "source": [
    "#### ③ 从本地读取文件作为数据集"
   ]
  },
  {
   "cell_type": "code",
   "execution_count": 40,
   "metadata": {},
   "outputs": [
    {
     "name": "stdout",
     "output_type": "stream",
     "text": [
      "该文件数据量：(113640, 6)\n"
     ]
    },
    {
     "data": {
      "text/html": [
       "<div>\n",
       "<style scoped>\n",
       "    .dataframe tbody tr th:only-of-type {\n",
       "        vertical-align: middle;\n",
       "    }\n",
       "\n",
       "    .dataframe tbody tr th {\n",
       "        vertical-align: top;\n",
       "    }\n",
       "\n",
       "    .dataframe thead th {\n",
       "        text-align: right;\n",
       "    }\n",
       "</style>\n",
       "<table border=\"1\" class=\"dataframe\">\n",
       "  <thead>\n",
       "    <tr style=\"text-align: right;\">\n",
       "      <th></th>\n",
       "      <th>User_id</th>\n",
       "      <th>Merchant_id</th>\n",
       "      <th>Coupon_id</th>\n",
       "      <th>Discount_rate</th>\n",
       "      <th>Distance</th>\n",
       "      <th>Date_received</th>\n",
       "    </tr>\n",
       "  </thead>\n",
       "  <tbody>\n",
       "    <tr>\n",
       "      <th>0</th>\n",
       "      <td>4129537</td>\n",
       "      <td>450</td>\n",
       "      <td>9983</td>\n",
       "      <td>30:5</td>\n",
       "      <td>1.0</td>\n",
       "      <td>20160712</td>\n",
       "    </tr>\n",
       "    <tr>\n",
       "      <th>1</th>\n",
       "      <td>6949378</td>\n",
       "      <td>1300</td>\n",
       "      <td>3429</td>\n",
       "      <td>30:5</td>\n",
       "      <td>NaN</td>\n",
       "      <td>20160706</td>\n",
       "    </tr>\n",
       "    <tr>\n",
       "      <th>2</th>\n",
       "      <td>2166529</td>\n",
       "      <td>7113</td>\n",
       "      <td>6928</td>\n",
       "      <td>200:20</td>\n",
       "      <td>5.0</td>\n",
       "      <td>20160727</td>\n",
       "    </tr>\n",
       "    <tr>\n",
       "      <th>3</th>\n",
       "      <td>2166529</td>\n",
       "      <td>7113</td>\n",
       "      <td>1808</td>\n",
       "      <td>100:10</td>\n",
       "      <td>5.0</td>\n",
       "      <td>20160727</td>\n",
       "    </tr>\n",
       "    <tr>\n",
       "      <th>4</th>\n",
       "      <td>6172162</td>\n",
       "      <td>7605</td>\n",
       "      <td>6500</td>\n",
       "      <td>30:1</td>\n",
       "      <td>2.0</td>\n",
       "      <td>20160708</td>\n",
       "    </tr>\n",
       "  </tbody>\n",
       "</table>\n",
       "</div>"
      ],
      "text/plain": [
       "   User_id  Merchant_id  Coupon_id Discount_rate  Distance  Date_received\n",
       "0  4129537          450       9983          30:5       1.0       20160712\n",
       "1  6949378         1300       3429          30:5       NaN       20160706\n",
       "2  2166529         7113       6928        200:20       5.0       20160727\n",
       "3  2166529         7113       1808        100:10       5.0       20160727\n",
       "4  6172162         7605       6500          30:1       2.0       20160708"
      ]
     },
     "execution_count": 40,
     "metadata": {},
     "output_type": "execute_result"
    }
   ],
   "source": [
    "# 读取本地文件\n",
    "f = open('test.csv', 'r')  # f = open(file_address, 只读'r')\n",
    "\n",
    "# 使用 pandas.read_xxx 来读取文件\n",
    "pc_data = pd.read_csv(f)\n",
    "\n",
    "print('该文件数据量：{}'.format(pc_data.shape))\n",
    "\n",
    "# 由上面语句可以看出该文件共 113640 行 6 列数据，使用 pandas.head() 函数查看前五行\n",
    "pc_data.iloc[:5,:5]"
   ]
  },
  {
   "cell_type": "markdown",
   "metadata": {},
   "source": [
    "#### ④ 手动 key in 数据，自行使用 NumPy 的 ndarray 进行数据录入，原始数据和结果的行数应一致"
   ]
  },
  {
   "cell_type": "markdown",
   "metadata": {},
   "source": [
    "## 2. 分割数据集"
   ]
  },
  {
   "cell_type": "markdown",
   "metadata": {},
   "source": [
    "#### 使用 scikit-learn 库里面 model_selection 的 train_test_split() 方法进行分割"
   ]
  },
  {
   "cell_type": "code",
   "execution_count": 11,
   "metadata": {},
   "outputs": [],
   "source": [
    "# 导入方法\n",
    "# from sklearn.model_selection import train_test_split\n",
    "# import pandas as pd   # 查看数据使用，可有可无\n",
    "# from sklearn.datasets import load_breast_cancer"
   ]
  },
  {
   "cell_type": "code",
   "execution_count": 107,
   "metadata": {},
   "outputs": [
    {
     "data": {
      "text/html": [
       "<div>\n",
       "<style scoped>\n",
       "    .dataframe tbody tr th:only-of-type {\n",
       "        vertical-align: middle;\n",
       "    }\n",
       "\n",
       "    .dataframe tbody tr th {\n",
       "        vertical-align: top;\n",
       "    }\n",
       "\n",
       "    .dataframe thead th {\n",
       "        text-align: right;\n",
       "    }\n",
       "</style>\n",
       "<table border=\"1\" class=\"dataframe\">\n",
       "  <thead>\n",
       "    <tr style=\"text-align: right;\">\n",
       "      <th></th>\n",
       "      <th>0</th>\n",
       "      <th>1</th>\n",
       "      <th>2</th>\n",
       "      <th>3</th>\n",
       "      <th>4</th>\n",
       "      <th>5</th>\n",
       "      <th>6</th>\n",
       "      <th>7</th>\n",
       "      <th>8</th>\n",
       "      <th>9</th>\n",
       "      <th>...</th>\n",
       "      <th>20</th>\n",
       "      <th>21</th>\n",
       "      <th>22</th>\n",
       "      <th>23</th>\n",
       "      <th>24</th>\n",
       "      <th>25</th>\n",
       "      <th>26</th>\n",
       "      <th>27</th>\n",
       "      <th>28</th>\n",
       "      <th>29</th>\n",
       "    </tr>\n",
       "  </thead>\n",
       "  <tbody>\n",
       "    <tr>\n",
       "      <th>0</th>\n",
       "      <td>13.87</td>\n",
       "      <td>20.70</td>\n",
       "      <td>89.77</td>\n",
       "      <td>584.8</td>\n",
       "      <td>0.09578</td>\n",
       "      <td>0.10180</td>\n",
       "      <td>0.03688</td>\n",
       "      <td>0.02369</td>\n",
       "      <td>0.1620</td>\n",
       "      <td>0.06688</td>\n",
       "      <td>...</td>\n",
       "      <td>15.05</td>\n",
       "      <td>24.75</td>\n",
       "      <td>99.17</td>\n",
       "      <td>688.6</td>\n",
       "      <td>0.1264</td>\n",
       "      <td>0.2037</td>\n",
       "      <td>0.1377</td>\n",
       "      <td>0.06845</td>\n",
       "      <td>0.2249</td>\n",
       "      <td>0.08492</td>\n",
       "    </tr>\n",
       "    <tr>\n",
       "      <th>1</th>\n",
       "      <td>17.57</td>\n",
       "      <td>15.05</td>\n",
       "      <td>115.00</td>\n",
       "      <td>955.1</td>\n",
       "      <td>0.09847</td>\n",
       "      <td>0.11570</td>\n",
       "      <td>0.09875</td>\n",
       "      <td>0.07953</td>\n",
       "      <td>0.1739</td>\n",
       "      <td>0.06149</td>\n",
       "      <td>...</td>\n",
       "      <td>20.01</td>\n",
       "      <td>19.52</td>\n",
       "      <td>134.90</td>\n",
       "      <td>1227.0</td>\n",
       "      <td>0.1255</td>\n",
       "      <td>0.2812</td>\n",
       "      <td>0.2489</td>\n",
       "      <td>0.14560</td>\n",
       "      <td>0.2756</td>\n",
       "      <td>0.07919</td>\n",
       "    </tr>\n",
       "    <tr>\n",
       "      <th>2</th>\n",
       "      <td>13.30</td>\n",
       "      <td>21.57</td>\n",
       "      <td>85.24</td>\n",
       "      <td>546.1</td>\n",
       "      <td>0.08582</td>\n",
       "      <td>0.06373</td>\n",
       "      <td>0.03344</td>\n",
       "      <td>0.02424</td>\n",
       "      <td>0.1815</td>\n",
       "      <td>0.05696</td>\n",
       "      <td>...</td>\n",
       "      <td>14.20</td>\n",
       "      <td>29.20</td>\n",
       "      <td>92.94</td>\n",
       "      <td>621.2</td>\n",
       "      <td>0.1140</td>\n",
       "      <td>0.1667</td>\n",
       "      <td>0.1212</td>\n",
       "      <td>0.05614</td>\n",
       "      <td>0.2637</td>\n",
       "      <td>0.06658</td>\n",
       "    </tr>\n",
       "    <tr>\n",
       "      <th>3</th>\n",
       "      <td>10.48</td>\n",
       "      <td>19.86</td>\n",
       "      <td>66.72</td>\n",
       "      <td>337.7</td>\n",
       "      <td>0.10700</td>\n",
       "      <td>0.05971</td>\n",
       "      <td>0.04831</td>\n",
       "      <td>0.03070</td>\n",
       "      <td>0.1737</td>\n",
       "      <td>0.06440</td>\n",
       "      <td>...</td>\n",
       "      <td>11.48</td>\n",
       "      <td>29.46</td>\n",
       "      <td>73.68</td>\n",
       "      <td>402.8</td>\n",
       "      <td>0.1515</td>\n",
       "      <td>0.1026</td>\n",
       "      <td>0.1181</td>\n",
       "      <td>0.06736</td>\n",
       "      <td>0.2883</td>\n",
       "      <td>0.07748</td>\n",
       "    </tr>\n",
       "    <tr>\n",
       "      <th>4</th>\n",
       "      <td>11.94</td>\n",
       "      <td>20.76</td>\n",
       "      <td>77.87</td>\n",
       "      <td>441.0</td>\n",
       "      <td>0.08605</td>\n",
       "      <td>0.10110</td>\n",
       "      <td>0.06574</td>\n",
       "      <td>0.03791</td>\n",
       "      <td>0.1588</td>\n",
       "      <td>0.06766</td>\n",
       "      <td>...</td>\n",
       "      <td>13.24</td>\n",
       "      <td>27.29</td>\n",
       "      <td>92.20</td>\n",
       "      <td>546.1</td>\n",
       "      <td>0.1116</td>\n",
       "      <td>0.2813</td>\n",
       "      <td>0.2365</td>\n",
       "      <td>0.11550</td>\n",
       "      <td>0.2465</td>\n",
       "      <td>0.09981</td>\n",
       "    </tr>\n",
       "  </tbody>\n",
       "</table>\n",
       "<p>5 rows × 30 columns</p>\n",
       "</div>"
      ],
      "text/plain": [
       "      0      1       2      3        4        5        6        7       8   \\\n",
       "0  13.87  20.70   89.77  584.8  0.09578  0.10180  0.03688  0.02369  0.1620   \n",
       "1  17.57  15.05  115.00  955.1  0.09847  0.11570  0.09875  0.07953  0.1739   \n",
       "2  13.30  21.57   85.24  546.1  0.08582  0.06373  0.03344  0.02424  0.1815   \n",
       "3  10.48  19.86   66.72  337.7  0.10700  0.05971  0.04831  0.03070  0.1737   \n",
       "4  11.94  20.76   77.87  441.0  0.08605  0.10110  0.06574  0.03791  0.1588   \n",
       "\n",
       "        9    ...        20     21      22      23      24      25      26  \\\n",
       "0  0.06688   ...     15.05  24.75   99.17   688.6  0.1264  0.2037  0.1377   \n",
       "1  0.06149   ...     20.01  19.52  134.90  1227.0  0.1255  0.2812  0.2489   \n",
       "2  0.05696   ...     14.20  29.20   92.94   621.2  0.1140  0.1667  0.1212   \n",
       "3  0.06440   ...     11.48  29.46   73.68   402.8  0.1515  0.1026  0.1181   \n",
       "4  0.06766   ...     13.24  27.29   92.20   546.1  0.1116  0.2813  0.2365   \n",
       "\n",
       "        27      28       29  \n",
       "0  0.06845  0.2249  0.08492  \n",
       "1  0.14560  0.2756  0.07919  \n",
       "2  0.05614  0.2637  0.06658  \n",
       "3  0.06736  0.2883  0.07748  \n",
       "4  0.11550  0.2465  0.09981  \n",
       "\n",
       "[5 rows x 30 columns]"
      ]
     },
     "execution_count": 107,
     "metadata": {},
     "output_type": "execute_result"
    }
   ],
   "source": [
    "# 以乳腺癌模型为例，分割乳腺癌数据集\n",
    "cancer = load_breast_cancer()\n",
    "X_train, X_test, y_train, y_test = train_test_split(cancer['data'], cancer['target'], stratify=cancer.target, random_state=66)\n",
    "\n",
    "# 自行查看数据\n",
    "pd.DataFrame(X_train).iloc[:5]"
   ]
  },
  {
   "cell_type": "markdown",
   "metadata": {},
   "source": [
    "## 3. 建立模型"
   ]
  },
  {
   "cell_type": "markdown",
   "metadata": {},
   "source": [
    "### ① k 近邻分类 KNeighborsClassifier "
   ]
  },
  {
   "cell_type": "code",
   "execution_count": 42,
   "metadata": {},
   "outputs": [],
   "source": [
    "# 导入类\n",
    "# from sklearn.neighbors import KNeighborsClassifier\n",
    "# import numpy as np\n",
    "# from sklearn.datasets import load_breast_cancer   "
   ]
  },
  {
   "cell_type": "code",
   "execution_count": 115,
   "metadata": {},
   "outputs": [
    {
     "name": "stdout",
     "output_type": "stream",
     "text": [
      "模型精度为：0.92\n"
     ]
    }
   ],
   "source": [
    "# 建立模型\n",
    "clf = KNeighborsClassifier(n_neighbors=3)  # 选用 3 个近邻\n",
    "\n",
    "# 训练模型\n",
    "clf.fit(X_train, y_train)\n",
    "\n",
    "# 查看模型精度\n",
    "print('模型精度为：{:.2f}'.format(clf.score(X_test, y_test)))"
   ]
  },
  {
   "cell_type": "markdown",
   "metadata": {},
   "source": [
    "#### 由此可知该模型的准确度约为 92% ，下面对新数据进行预测\n",
    "现在有一名新的病人数据，想要通过此模型进行推断是否为恶性肿瘤："
   ]
  },
  {
   "cell_type": "code",
   "execution_count": 111,
   "metadata": {},
   "outputs": [
    {
     "name": "stdout",
     "output_type": "stream",
     "text": [
      "[1]\n",
      "病人肿瘤为：['benign']\n"
     ]
    }
   ],
   "source": [
    "# 录入新数据\n",
    "X_new = np.array([[15.66, 18.5, 92.57, 643.54, 0.08945, 0.1108, 0.04233, 0.02145, 0.1513, 0.06427, 0.325, 1.347, 2.348, 20.12, 0.0058665, 0.02013, 0.02549, 0.008554, 0.01325, 0.003156, 18.25, 28.25, 90.12, 612.54, 0.1054, 0.2452, 0.1211, 0.06214, 0.2012, 0.07846]])\n",
    "\n",
    "# 预测结果\n",
    "y_new = clf.predict(X_new)\n",
    "\n",
    "# 输出结果\n",
    "print(y_new)\n",
    "print('病人肿瘤为：{}'.format(cancer['target_names'][y_new]))\n",
    "# benign 为良性肿瘤，malignant 为恶性肿瘤"
   ]
  },
  {
   "cell_type": "markdown",
   "metadata": {},
   "source": [
    "#### 模型精度确认"
   ]
  },
  {
   "cell_type": "code",
   "execution_count": 89,
   "metadata": {},
   "outputs": [],
   "source": [
    "# 查看模型泛化精度\n",
    "n_neigbors_sittings = [i for i in range(1,11)]   # 查看 k 为 1 - 10 的情况\n",
    "train_accuracy = []  # 训练精度\n",
    "test_accuracy = []  # 测试精度\n",
    "\n",
    "for n_neigbors in n_neigbors_sittings:\n",
    "    # 构建模型\n",
    "    clf = KNeighborsClassifier(n_neigbors)\n",
    "    clf.fit(X_train, y_train)\n",
    "    # 记录训练精度\n",
    "    train_accuracy.append(clf.score(X_train, y_train))\n",
    "    # 记录泛化精度\n",
    "    test_accuracy.append(clf.score(X_test, y_test))"
   ]
  },
  {
   "cell_type": "code",
   "execution_count": 90,
   "metadata": {
    "scrolled": true
   },
   "outputs": [
    {
     "data": {
      "image/png": "[encoded data removed]",
      "text/plain": [
       "<Figure size 432x288 with 1 Axes>"
      ]
     },
     "metadata": {},
     "output_type": "display_data"
    }
   ],
   "source": [
    "# 使用 matplotlib 绘制精度图像\n",
    "# import matplotlib.pyplot as plt\n",
    "# import seaborn as sns\n",
    "sns.set()   # 美化图像\n",
    "plt.plot(n_neigbors_sittings, train_accuracy, color='#EE88BB', label='training accuracy')\n",
    "plt.plot(n_neigbors_sittings, test_accuracy, color='#6666EE', label='test accuracy', linestyle='--')\n",
    "plt.xlabel('n_neighbors')  # 设置 x 轴名字\n",
    "plt.ylabel('accuracy')   # 设置 y 轴名字\n",
    "plt.legend()   # 显示右上角标注\n",
    "plt.show()   # 显示图像"
   ]
  },
  {
   "cell_type": "markdown",
   "metadata": {},
   "source": [
    "#### 由此可见当 近邻数为 6 的时候模型精度为最准确的\n",
    "所以该模型选用 n_neighbors = 6 最为合适，小于 6 个近邻或者大于 6 个近邻都会使精度下降\n",
    "\n",
    "小于最佳近邻数时称之为：\n",
    "#### 欠拟合\n",
    "大于最佳近邻数时称之为：\n",
    "#### 过拟合"
   ]
  },
  {
   "cell_type": "markdown",
   "metadata": {},
   "source": [
    "### ② k 近邻回归 KNeighborsRegressor"
   ]
  },
  {
   "cell_type": "code",
   "execution_count": 72,
   "metadata": {},
   "outputs": [],
   "source": [
    "# 导入类\n",
    "# from sklearn.neighbors import KNeighborsRegressor\n",
    "# import matplotlib.pyplot as plt\n",
    "# import seaborn as sns"
   ]
  },
  {
   "cell_type": "code",
   "execution_count": 118,
   "metadata": {},
   "outputs": [
    {
     "name": "stdout",
     "output_type": "stream",
     "text": [
      "模型精度为：0.75\n"
     ]
    }
   ],
   "source": [
    "# 建立模型\n",
    "reg = KNeighborsRegressor(3)\n",
    "\n",
    "# 训练模型\n",
    "reg.fit(X_train, y_train)\n",
    "\n",
    "# 查看模型精度\n",
    "print('模型精度为：{:.2f}'.format(reg.score(X_test, y_test)))"
   ]
  },
  {
   "cell_type": "markdown",
   "metadata": {},
   "source": [
    "#### 模型拟合情况"
   ]
  },
  {
   "cell_type": "code",
   "execution_count": 149,
   "metadata": {},
   "outputs": [],
   "source": [
    "n_neighbors_sittings = range(1, 11)\n",
    "train_accuracy = []\n",
    "test_accuracy = []\n",
    "\n",
    "for n_neighbors in n_neighbors_sittings:\n",
    "    reg = KNeighborsRegressor(n_neighbors)\n",
    "    reg.fit(X_train, y_train)\n",
    "    train_accuracy.append(reg.score(X_train, y_train))\n",
    "    test_accuracy.append(reg.score(X_test, y_test))"
   ]
  },
  {
   "cell_type": "code",
   "execution_count": 151,
   "metadata": {},
   "outputs": [],
   "source": [
    "y_max = np.array(max(test_accuracy))\n",
    "x_max = np.array(test_accuracy.index(y_max) + 1)"
   ]
  },
  {
   "cell_type": "code",
   "execution_count": 152,
   "metadata": {},
   "outputs": [
    {
     "data": {
      "image/png": "[encoded data removed]",
      "text/plain": [
       "<Figure size 432x288 with 1 Axes>"
      ]
     },
     "metadata": {},
     "output_type": "display_data"
    }
   ],
   "source": [
    "# sns.set()\n",
    "plt.plot(n_neighbors_sittings, train_accuracy, label='training accuracy')\n",
    "plt.plot(n_neighbors_sittings, test_accuracy, label='test accuracy', linestyle='--')\n",
    "plt.scatter(x_max, y_max, color='r')\n",
    "plt.xlabel('n_neighbors')\n",
    "plt.ylabel('Accuracy')\n",
    "plt.legend()\n",
    "plt.show()"
   ]
  }
 ],
 "metadata": {
  "kernelspec": {
   "display_name": "Python 3",
   "language": "python",
   "name": "python3"
  },
  "language_info": {
   "codemirror_mode": {
    "name": "ipython",
    "version": 3
   },
   "file_extension": ".py",
   "mimetype": "text/x-python",
   "name": "python",
   "nbconvert_exporter": "python",
   "pygments_lexer": "ipython3",
   "version": "3.6.5"
  }
 },
 "nbformat": 4,
 "nbformat_minor": 2
}
